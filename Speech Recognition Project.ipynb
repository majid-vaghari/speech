{
 "cells": [
  {
   "cell_type": "markdown",
   "metadata": {},
   "source": [
    "# Speech Recognition Project\n",
    "We want to make a monophone recognition system.\n",
    "Train and test data are available in the `database` folder.\n",
    "\n",
    "## Preprocessing and Feature Extraction\n",
    "Frist, we're going to get sound files as input.\n",
    "To do that, we need to find the name of all train files then store samples for each one in a Python dictionary."
   ]
  },
  {
   "cell_type": "code",
   "execution_count": null,
   "metadata": {
    "collapsed": true
   },
   "outputs": [],
   "source": [
    "import os\n",
    "import scipy.io.wavfile\n",
    "import numpy as np\n",
    "\n",
    "TRAIN_DATA_DIR = './database/train/'\n",
    "\n",
    "# store filenames in this list\n",
    "train_filenames = []\n",
    "for d in os.listdir(TRAIN_DATA_DIR):\n",
    "    train_filenames.extend([os.path.join(TRAIN_DATA_DIR, d, f) for f in os.listdir(os.path.join(TRAIN_DATA_DIR, d))\n",
    "                            if f.endswith('.wav')])\n",
    "train_filenames.sort()"
   ]
  },
  {
   "cell_type": "markdown",
   "metadata": {},
   "source": [
    "Now we're going to define a function that returns frames for a given signal."
   ]
  },
  {
   "cell_type": "code",
   "execution_count": null,
   "metadata": {
    "collapsed": true
   },
   "outputs": [],
   "source": [
    "def get_frames(array, step, size):\n",
    "    max_start = int((len(array) - size) / step) + 1\n",
    "    window = [array[i * step:i * step + size] for i in range(max_start)]\n",
    "    window.append(array[max_start * step:])\n",
    "    \n",
    "    return window"
   ]
  },
  {
   "cell_type": "markdown",
   "metadata": {},
   "source": [
    "Read each file and store the frames in a list."
   ]
  },
  {
   "cell_type": "code",
   "execution_count": null,
   "metadata": {
    "collapsed": true
   },
   "outputs": [],
   "source": [
    "STEP_SECONDS = 0.01\n",
    "WINDOW_SIZE_SECONDS = 0.025\n",
    "\n",
    "samples = dict.fromkeys(train_filenames, [])\n",
    "for filename in samples:\n",
    "    # read file\n",
    "    [fs, y] = scipy.io.wavfile.read(filename)\n",
    "    # divide the signal to frames and apply the hamming window function on them\n",
    "    samples[filename] = [f * np.hamming(len(f))\n",
    "                         for f in get_frames(y, int(fs * STEP_SECONDS), int(fs * WINDOW_SIZE_SECONDS))]"
   ]
  }
 ],
 "metadata": {
  "kernelspec": {
   "display_name": "Python 3",
   "language": "python",
   "name": "python3"
  },
  "language_info": {
   "codemirror_mode": {
    "name": "ipython",
    "version": 3
   },
   "file_extension": ".py",
   "mimetype": "text/x-python",
   "name": "python",
   "nbconvert_exporter": "python",
   "pygments_lexer": "ipython3",
   "version": "3.6.2"
  }
 },
 "nbformat": 4,
 "nbformat_minor": 2
}
